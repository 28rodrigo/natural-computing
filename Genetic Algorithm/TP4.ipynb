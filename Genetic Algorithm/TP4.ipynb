{
 "cells": [
  {
   "cell_type": "markdown",
   "source": [
    "### Fazer import das bibliotecas"
   ],
   "metadata": {
    "collapsed": false
   }
  },
  {
   "cell_type": "code",
   "execution_count": 1,
   "outputs": [],
   "source": [
    "import random\n",
    "from bitstring import BitArray"
   ],
   "metadata": {
    "collapsed": false,
    "pycharm": {
     "name": "#%%\n"
    }
   }
  },
  {
   "cell_type": "markdown",
   "source": [
    "### Criar classe Genetic Algorithm"
   ],
   "metadata": {
    "collapsed": false
   }
  },
  {
   "cell_type": "code",
   "execution_count": 44,
   "outputs": [],
   "source": [
    "class GeneticAlgorithm(object):\n",
    "    def __init__(self,max_gen=200,pop_size=400,pc=7.9,pm=7.2):\n",
    "        self.counter=0\n",
    "        self.max_gen=max_gen\n",
    "        self.pop_size=pop_size\n",
    "        self.pm=pm\n",
    "        self.pc=pc\n",
    "        self.npar=2\n",
    "        self.nbits=8\n",
    "        self.lchrome=self.npar*self.nbits\n",
    "        self.max_bin=2**self.nbits-1\n",
    "        self.population= self.init_pop()\n",
    "\n",
    "    def random_chromo(self):\n",
    "        return [random.randint(0,1) for j in range(self.lchrome)]\n",
    "\n",
    "    def crossover2points(self,parents): ##parents -> (p1,p2)\n",
    "        father,mother=parents\n",
    "        index1=random.randint(0,self.lchrome-2)\n",
    "        index2=random.randint(0,self.lchrome-3)\n",
    "        print(\"index1: \",index1)\n",
    "        print(\"index2: \",index2)\n",
    "        if index2>=index1:\n",
    "            index2+=1\n",
    "        else:\n",
    "            index1,index2=index2,index1\n",
    "        child1=father[:index1]+mother[index1:index2]+father[index2:]\n",
    "        child2=mother[:index1]+father[index1:index2]+mother[index2:]\n",
    "        return  child1,child2\n",
    "\n",
    "    def mutation(self,crhomossome):\n",
    "        crhomossome_copy=crhomossome[:]\n",
    "        index=random.randint(0,len(crhomossome))\n",
    "        crhomossome_copy[index]=1 if crhomossome[index]==0 else 0\n",
    "        print(\"original: \",crhomossome)\n",
    "        print(\"mutation: \",crhomossome_copy)\n",
    "        return  crhomossome_copy\n",
    "\n",
    "    def init_pop(self):\n",
    "        return [self.random_chromo() for i in range(0,self.pop_size)]\n",
    "\n",
    "    def print_pop(self):\n",
    "        for i,val in enumerate(self.population):\n",
    "            print(i,': ',str(val).replace(',','').replace(' ',''))\n",
    "\n",
    "\n",
    "ga=GeneticAlgorithm(100,20)"
   ],
   "metadata": {
    "collapsed": false,
    "pycharm": {
     "name": "#%%\n"
    }
   }
  },
  {
   "cell_type": "markdown",
   "source": [
    "#### Get childs"
   ],
   "metadata": {
    "collapsed": false
   }
  },
  {
   "cell_type": "code",
   "execution_count": 16,
   "outputs": [
    {
     "name": "stdout",
     "output_type": "stream",
     "text": [
      "p1:  [0, 1, 1, 1, 0, 0, 1, 0, 1, 0, 1, 0, 0, 0, 0, 1]\n",
      "p2:  [0, 0, 0, 1, 0, 1, 0, 0, 1, 1, 1, 0, 1, 1, 1, 1]\n",
      "index1:  6\n",
      "index2:  13\n",
      "f1:  [0, 1, 1, 1, 0, 0, 0, 0, 1, 1, 1, 0, 1, 1, 0, 1]\n",
      "f2:  [0, 0, 0, 1, 0, 1, 1, 0, 1, 0, 1, 0, 0, 0, 1, 1]\n"
     ]
    }
   ],
   "source": [
    "p1=ga.random_chromo()\n",
    "p2=ga.random_chromo()\n",
    "print(\"p1: \",p1)\n",
    "print(\"p2: \",p2)\n",
    "f1,f2=ga.crossover2points([p1,p2])\n",
    "print(\"f1: \",f1)\n",
    "print(\"f2: \",f2)"
   ],
   "metadata": {
    "collapsed": false,
    "pycharm": {
     "name": "#%%\n"
    }
   }
  },
  {
   "cell_type": "markdown",
   "source": [
    "#### Mutation"
   ],
   "metadata": {
    "collapsed": false
   }
  },
  {
   "cell_type": "code",
   "execution_count": 45,
   "outputs": [
    {
     "name": "stdout",
     "output_type": "stream",
     "text": [
      "original:  2147394927168\n",
      "mutation:  2147393280448\n"
     ]
    },
    {
     "data": {
      "text/plain": "[1, 0, 0, 1, 1, 1, 1, 0, 1, 0, 0, 0, 1, 1, 0, 1]"
     },
     "execution_count": 45,
     "metadata": {},
     "output_type": "execute_result"
    }
   ],
   "source": [
    "p3=ga.random_chromo()\n",
    "ga.mutation(p3)"
   ],
   "metadata": {
    "collapsed": false,
    "pycharm": {
     "name": "#%%\n"
    }
   }
  },
  {
   "cell_type": "markdown",
   "source": [
    "#### Print population"
   ],
   "metadata": {
    "collapsed": false
   }
  },
  {
   "cell_type": "code",
   "execution_count": 36,
   "outputs": [
    {
     "name": "stdout",
     "output_type": "stream",
     "text": [
      "0 :  [0100000101111001]\n",
      "1 :  [0101000110001010]\n",
      "2 :  [0100000011101000]\n",
      "3 :  [1001010000101001]\n",
      "4 :  [1111101101111011]\n",
      "5 :  [0000000111110101]\n",
      "6 :  [1011000100110000]\n",
      "7 :  [1111101010101110]\n",
      "8 :  [1110100101011010]\n",
      "9 :  [1000111111111000]\n",
      "10 :  [1100011001011100]\n",
      "11 :  [1010101100011001]\n",
      "12 :  [0110100000111011]\n",
      "13 :  [1101001100110101]\n",
      "14 :  [0010110111001101]\n",
      "15 :  [0001111001110100]\n",
      "16 :  [1100110110010110]\n",
      "17 :  [0100100100101101]\n",
      "18 :  [1100001101001010]\n",
      "19 :  [1110011000011011]\n"
     ]
    }
   ],
   "source": [
    "ga.print_pop()"
   ],
   "metadata": {
    "collapsed": false,
    "pycharm": {
     "name": "#%%\n"
    }
   }
  },
  {
   "cell_type": "code",
   "execution_count": null,
   "outputs": [],
   "source": [],
   "metadata": {
    "collapsed": false,
    "pycharm": {
     "name": "#%%\n"
    }
   }
  }
 ],
 "metadata": {
  "kernelspec": {
   "display_name": "Python 3",
   "language": "python",
   "name": "python3"
  },
  "language_info": {
   "codemirror_mode": {
    "name": "ipython",
    "version": 2
   },
   "file_extension": ".py",
   "mimetype": "text/x-python",
   "name": "python",
   "nbconvert_exporter": "python",
   "pygments_lexer": "ipython2",
   "version": "2.7.6"
  }
 },
 "nbformat": 4,
 "nbformat_minor": 0
}